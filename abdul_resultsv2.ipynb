{
 "cells": [
  {
   "cell_type": "code",
   "execution_count": 1,
   "metadata": {},
   "outputs": [],
   "source": [
    "import os\n",
    "import pandas as pd \n",
    "import sys\n",
    "import pickle\n",
    "general_path = '/mnt/d/Users/alkurdi/OneDrive - University of Illinois - Urbana/delta_old_results'\n",
    "path2 = \"/mnt/d/Users/alkurdi/OneDrive - University of Illinois - Urbana/delta_old_results/e2e\"\n",
    "complete_results = pd.DataFrame()\n",
    "i=0\n",
    "identifier = path2.split('/')[-1]\n",
    "big_identifier = path2.split('/')[-2]\n",
    "def find_result_roots(general_path):\n",
    "    i =0\n",
    "    maps = []\n",
    "    for root, dirs, files in os.walk(general_path):\n",
    "        for dir in dirs:              \n",
    "            if 'results' in dir:\n",
    "                i+=1 \n",
    "                maps.append([root,dir])  \n",
    "                if i%50==0: print(i)\n",
    "    return maps\n",
    "output = find_result_roots(general_path)"
   ]
  },
  {
   "cell_type": "code",
   "execution_count": 2,
   "metadata": {},
   "outputs": [
    {
     "data": {
      "text/plain": [
       "[['/mnt/d/Users/alkurdi/OneDrive - University of Illinois - Urbana/delta_old_results/e2e/e2e',\n",
       "  'results_snr_0.5'],\n",
       " ['/mnt/d/Users/alkurdi/OneDrive - University of Illinois - Urbana/delta_old_results/e2e/e2e_copy',\n",
       "  'results_snr_0.1'],\n",
       " ['/mnt/d/Users/alkurdi/OneDrive - University of Illinois - Urbana/delta_old_results/e2e/e2e_copy',\n",
       "  'results_snr_0.2'],\n",
       " ['/mnt/d/Users/alkurdi/OneDrive - University of Illinois - Urbana/delta_old_results/e2e/e2e_copy',\n",
       "  'results_snr_0.5'],\n",
       " ['/mnt/d/Users/alkurdi/OneDrive - University of Illinois - Urbana/delta_old_results/e2e/e2e_copy2',\n",
       "  'results_snr_0.01'],\n",
       " ['/mnt/d/Users/alkurdi/OneDrive - University of Illinois - Urbana/delta_old_results/e2e/e2e_copy2',\n",
       "  'results_snr_0.1'],\n",
       " ['/mnt/d/Users/alkurdi/OneDrive - University of Illinois - Urbana/delta_old_results/e2e/e2e_copy2',\n",
       "  'results_snr_0.2'],\n",
       " ['/mnt/d/Users/alkurdi/OneDrive - University of Illinois - Urbana/delta_old_results/e2e/e2e_copy2',\n",
       "  'results_snr_0.5'],\n",
       " ['/mnt/d/Users/alkurdi/OneDrive - University of Illinois - Urbana/delta_old_results/e2e/e2e_snr_0.2',\n",
       "  'results_snr_0.2'],\n",
       " ['/mnt/d/Users/alkurdi/OneDrive - University of Illinois - Urbana/delta_old_results/e2e/e2e_snr_0.2',\n",
       "  'results_snr_0.5'],\n",
       " ['/mnt/d/Users/alkurdi/OneDrive - University of Illinois - Urbana/delta_old_results/e2e/e2e_test',\n",
       "  'results_snr_0.5'],\n",
       " ['/mnt/d/Users/alkurdi/OneDrive - University of Illinois - Urbana/delta_old_results/e2e_bbyn/katerina',\n",
       "  'results_snr_0.5'],\n",
       " ['/mnt/d/Users/alkurdi/OneDrive - University of Illinois - Urbana/delta_old_results/e2e_bbyn/katerina',\n",
       "  'results_snr_0.5_save']]"
      ]
     },
     "execution_count": 2,
     "metadata": {},
     "output_type": "execute_result"
    }
   ],
   "source": [
    "output"
   ]
  },
  {
   "cell_type": "code",
   "execution_count": 3,
   "metadata": {},
   "outputs": [
    {
     "ename": "NameError",
     "evalue": "name 'metrics' is not defined",
     "output_type": "error",
     "traceback": [
      "\u001b[0;31m---------------------------------------------------------------------------\u001b[0m",
      "\u001b[0;31mNameError\u001b[0m                                 Traceback (most recent call last)",
      "\u001b[1;32m/mnt/d/Users/alkurdi/anxietyE2E/abdul_resultsv2.ipynb Cell 3\u001b[0m line \u001b[0;36m1\n\u001b[1;32m     <a href='vscode-notebook-cell://wsl%2Bubuntu/mnt/d/Users/alkurdi/anxietyE2E/abdul_resultsv2.ipynb#W2sdnNjb2RlLXJlbW90ZQ%3D%3D?line=10'>11</a>\u001b[0m rt_splt \u001b[39m=\u001b[39m root\u001b[39m.\u001b[39msplit(\u001b[39m'\u001b[39m\u001b[39m/\u001b[39m\u001b[39m'\u001b[39m)\n\u001b[1;32m     <a href='vscode-notebook-cell://wsl%2Bubuntu/mnt/d/Users/alkurdi/anxietyE2E/abdul_resultsv2.ipynb#W2sdnNjb2RlLXJlbW90ZQ%3D%3D?line=11'>12</a>\u001b[0m \u001b[39mif\u001b[39;00m os\u001b[39m.\u001b[39mpath\u001b[39m.\u001b[39misdir(root\u001b[39m+\u001b[39m\u001b[39m'\u001b[39m\u001b[39m/DONE\u001b[39m\u001b[39m'\u001b[39m): \n\u001b[0;32m---> <a href='vscode-notebook-cell://wsl%2Bubuntu/mnt/d/Users/alkurdi/anxietyE2E/abdul_resultsv2.ipynb#W2sdnNjb2RlLXJlbW90ZQ%3D%3D?line=12'>13</a>\u001b[0m     metrics[\u001b[39m'\u001b[39m\u001b[39mis_done\u001b[39m\u001b[39m'\u001b[39m] \u001b[39m=\u001b[39m \u001b[39m1\u001b[39m\n\u001b[1;32m     <a href='vscode-notebook-cell://wsl%2Bubuntu/mnt/d/Users/alkurdi/anxietyE2E/abdul_resultsv2.ipynb#W2sdnNjb2RlLXJlbW90ZQ%3D%3D?line=13'>14</a>\u001b[0m \u001b[39melse\u001b[39;00m:\n\u001b[1;32m     <a href='vscode-notebook-cell://wsl%2Bubuntu/mnt/d/Users/alkurdi/anxietyE2E/abdul_resultsv2.ipynb#W2sdnNjb2RlLXJlbW90ZQ%3D%3D?line=14'>15</a>\u001b[0m     metrics[\u001b[39m'\u001b[39m\u001b[39mis_done\u001b[39m\u001b[39m'\u001b[39m] \u001b[39m=\u001b[39m \u001b[39m0\u001b[39m\n",
      "\u001b[0;31mNameError\u001b[0m: name 'metrics' is not defined"
     ]
    }
   ],
   "source": [
    "from datetime import datetime\n",
    "today = datetime.now().strftime('%Y-%m-%d-%H-%M-%p')\n",
    "all_the_results = [['results folder root', 'complete_results']]\n",
    "for entry in output:\n",
    "    basis = entry[0]+ '/' + entry[1]\n",
    "    complete_results = pd.DataFrame()\n",
    "    for root, dirs, files in os.walk(basis):\n",
    "        for file in files:\n",
    "            if 'metrics' in file:\n",
    "                save_path = root + '/../../../../..'\n",
    "                rt_splt = root.split('/')\n",
    "                \n",
    "                metrics = pd.read_csv(root+'/'+file)\n",
    "                metrics = pd.concat([metrics, pd.read_csv(root+'/df_best_model.csv')], axis=1)\n",
    "                if os.path.isdir(root+'/DONE'): \n",
    "                    metrics['is_done'] = 1\n",
    "                else:\n",
    "                    metrics['is_done'] = 0\n",
    "                metrics['iter'] = int(rt_splt[-1][-2:])+1\n",
    "                metrics['fold'] = int(root[-2:])+1\n",
    "                metrics['tune'] = int(rt_splt[-3][-2:])+1\n",
    "                metrics['model'] = rt_splt[-2]\n",
    "                metrics['dataset'] = rt_splt[-4].split('_')[0]\n",
    "                metrics['snr'] = rt_splt[-5].split('_')[2]\n",
    "                complete_results = pd.concat([complete_results, metrics], ignore_index=True)\n",
    "    upper = entry[0]+'/'+entry[1]+'/..'\n",
    "    identifier = '_'.join((entry[0]+'/'+entry[1]).split('/')[-3:])\n",
    "    complete_results.to_csv(f'{upper}/{identifier}_complete_results.csv')\n",
    "    all_the_results.append([entry[0]+ '/' + entry[1], complete_results])\n",
    "pickle.dump(all_the_results, open( f'{general_path}/{today}_all_complete_results.pkl', \"wb\" ) )     "
   ]
  }
 ],
 "metadata": {
  "kernelspec": {
   "display_name": "TFwesad",
   "language": "python",
   "name": "python3"
  },
  "language_info": {
   "codemirror_mode": {
    "name": "ipython",
    "version": 3
   },
   "file_extension": ".py",
   "mimetype": "text/x-python",
   "name": "python",
   "nbconvert_exporter": "python",
   "pygments_lexer": "ipython3",
   "version": "3.8.13"
  }
 },
 "nbformat": 4,
 "nbformat_minor": 2
}
