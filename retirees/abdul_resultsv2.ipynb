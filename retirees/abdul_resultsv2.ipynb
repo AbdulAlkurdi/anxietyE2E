{
 "cells": [
  {
   "cell_type": "markdown",
   "metadata": {},
   "source": [
    "# OUTDATED"
   ]
  },
  {
   "cell_type": "code",
   "execution_count": 13,
   "metadata": {},
   "outputs": [],
   "source": [
    "import os\n",
    "import pandas as pd \n",
    "import sys\n",
    "import pickle\n",
    "general_path = 'D:/Users/alkurdi/delta_old_results'\n",
    "path2 = \"D:/Users/alkurdi/delta_old_results/e2e\"\n",
    "complete_results = pd.DataFrame()\n",
    "i=0\n",
    "identifier = path2.split('/')[-1]\n",
    "big_identifier = path2.split('/')[-2]\n",
    "def find_result_roots(general_path):\n",
    "    i =0\n",
    "    maps = []\n",
    "    for root, dirs, files in os.walk(general_path):\n",
    "        for dir in dirs:              \n",
    "            if 'results' in dir:\n",
    "                i+=1 \n",
    "                maps.append([root,dir])  \n",
    "                if i%50==0: print(i)\n",
    "    return maps\n",
    "output = find_result_roots(general_path)"
   ]
  },
  {
   "cell_type": "code",
   "execution_count": 14,
   "metadata": {},
   "outputs": [
    {
     "data": {
      "text/plain": [
       "['.tmp.driveupload',\n",
       " 'anxietyE2E',\n",
       " 'baseline_ledger.pkl',\n",
       " 'data',\n",
       " 'delta_old_results',\n",
       " 'delta_old_results.zip',\n",
       " 'from_wsl2_created_may_23',\n",
       " 'ledger_results.pkl',\n",
       " 'master_ledger.pkl',\n",
       " 'master_ledger_df.pkl',\n",
       " 'new_delta_results']"
      ]
     },
     "execution_count": 14,
     "metadata": {},
     "output_type": "execute_result"
    }
   ],
   "source": [
    "what_path = 'D:/Users/alkurdi/'\n",
    "os.listdir(what_path)"
   ]
  },
  {
   "cell_type": "code",
   "execution_count": 15,
   "metadata": {},
   "outputs": [
    {
     "data": {
      "text/plain": [
       "[['D:/Users/alkurdi/delta_old_results\\\\e2e\\\\e2e', 'results_snr_0.5'],\n",
       " ['D:/Users/alkurdi/delta_old_results\\\\e2e\\\\e2e_copy', 'results_snr_0.1'],\n",
       " ['D:/Users/alkurdi/delta_old_results\\\\e2e\\\\e2e_copy', 'results_snr_0.2'],\n",
       " ['D:/Users/alkurdi/delta_old_results\\\\e2e\\\\e2e_copy', 'results_snr_0.5'],\n",
       " ['D:/Users/alkurdi/delta_old_results\\\\e2e\\\\e2e_copy2', 'results_snr_0.01'],\n",
       " ['D:/Users/alkurdi/delta_old_results\\\\e2e\\\\e2e_copy2', 'results_snr_0.1'],\n",
       " ['D:/Users/alkurdi/delta_old_results\\\\e2e\\\\e2e_copy2', 'results_snr_0.2'],\n",
       " ['D:/Users/alkurdi/delta_old_results\\\\e2e\\\\e2e_copy2', 'results_snr_0.5'],\n",
       " ['D:/Users/alkurdi/delta_old_results\\\\e2e\\\\e2e_snr_0.2', 'results_snr_0.2'],\n",
       " ['D:/Users/alkurdi/delta_old_results\\\\e2e\\\\e2e_snr_0.2', 'results_snr_0.5'],\n",
       " ['D:/Users/alkurdi/delta_old_results\\\\e2e\\\\e2e_test', 'results_snr_0.5'],\n",
       " ['D:/Users/alkurdi/delta_old_results\\\\e2e_bbyn\\\\katerina', 'results_snr_0.5'],\n",
       " ['D:/Users/alkurdi/delta_old_results\\\\e2e_bbyn\\\\katerina',\n",
       "  'results_snr_0.5_save']]"
      ]
     },
     "execution_count": 15,
     "metadata": {},
     "output_type": "execute_result"
    }
   ],
   "source": [
    "output"
   ]
  },
  {
   "cell_type": "code",
   "execution_count": 4,
   "metadata": {},
   "outputs": [],
   "source": [
    "from datetime import datetime\n",
    "today = datetime.now().strftime('%Y-%m-%d-%H-%M-%p')\n",
    "all_the_results = [['results folder root', 'complete_results']]\n",
    "for entry in output:\n",
    "    basis = entry[0]+ '/' + entry[1]\n",
    "    complete_results = pd.DataFrame()\n",
    "    for root, dirs, files in os.walk(basis):\n",
    "        for file in files:\n",
    "            metrics = pd.DataFrame()\n",
    "            if 'metrics' in file:\n",
    "                save_path = root + '/../../../../..'\n",
    "                rt_splt = root.split('/')\n",
    "                \n",
    "                metrics = pd.read_csv(root+'/'+file)\n",
    "                metrics = pd.concat([metrics, pd.read_csv(root+'/df_best_model.csv')], axis=1)\n",
    "                if os.path.isdir(root+'/DONE'): \n",
    "                    metrics['is_done'] = 1\n",
    "                else:\n",
    "                    metrics['is_done'] = 0\n",
    "                metrics['iter'] = int(rt_splt[-1][-2:])+1\n",
    "                metrics['fold'] = int(root[-2:])+1\n",
    "                metrics['tune'] = int(rt_splt[-3][-2:])+1\n",
    "                metrics['model'] = rt_splt[-2]\n",
    "                metrics['dataset'] = rt_splt[-4].split('_')[0]\n",
    "                metrics['snr'] = rt_splt[-5].split('_')[2]\n",
    "                complete_results = pd.concat([complete_results, metrics], ignore_index=True)\n",
    "    upper = entry[0]+'/'+entry[1]+'/..'\n",
    "    identifier = '_'.join((entry[0]+'/'+entry[1]).split('/')[-3:])\n",
    "    complete_results.to_csv(f'{upper}/{identifier}_complete_results.csv')\n",
    "    all_the_results.append([entry[0]+ '/' + entry[1], complete_results])\n",
    "pickle.dump(all_the_results, open( f'{general_path}/{today}_all_complete_results.pkl', \"wb\" ) )     "
   ]
  }
 ],
 "metadata": {
  "kernelspec": {
   "display_name": "TFwesad",
   "language": "python",
   "name": "python3"
  },
  "language_info": {
   "codemirror_mode": {
    "name": "ipython",
    "version": 3
   },
   "file_extension": ".py",
   "mimetype": "text/x-python",
   "name": "python",
   "nbconvert_exporter": "python",
   "pygments_lexer": "ipython3",
   "version": "3.10.9"
  }
 },
 "nbformat": 4,
 "nbformat_minor": 2
}
